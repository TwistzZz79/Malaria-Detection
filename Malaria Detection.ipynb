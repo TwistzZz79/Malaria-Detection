{
 "cells": [
  {
   "cell_type": "code",
   "execution_count": 1,
   "id": "239ccc8d",
   "metadata": {},
   "outputs": [],
   "source": [
    "import tensorflow as tf\n",
    "import numpy as np\n",
    "import matplotlib.pyplot as plt\n",
    "import tensorflow_datasets as tfds"
   ]
  },
  {
   "cell_type": "code",
   "execution_count": 2,
   "id": "26abdebd",
   "metadata": {},
   "outputs": [],
   "source": [
    "dataset,dataset_info = tfds.load('malaria',with_info=True,as_supervised=True,shuffle_files=True,split=['train'])"
   ]
  },
  {
   "cell_type": "code",
   "execution_count": 3,
   "id": "9f6234ee",
   "metadata": {},
   "outputs": [],
   "source": [
    "def splits(dataset,TRAIN_RATIO,VAL_RATIO,TEST_RATIO):\n",
    "    DATASET_SIZE=len(dataset)\n",
    "    train_dataset=dataset.take(int(TRAIN_RATIO*DATASET_SIZE))\n",
    "    \n",
    "    val_test_dataset=dataset.skip(int(TRAIN_RATIO*DATASET_SIZE))\n",
    "    val_dataset=val_test_dataset.take(int(VAL_RATIO*DATASET_SIZE))\n",
    "    \n",
    "    test_dataset=val_test_dataset.skip(int(VAL_RATIO*DATASET_SIZE))\n",
    "    \n",
    "    return train_dataset,val_dataset,test_dataset\n",
    "    \n",
    "                            "
   ]
  },
  {
   "cell_type": "code",
   "execution_count": 4,
   "id": "38c694f9",
   "metadata": {},
   "outputs": [
    {
     "name": "stdout",
     "output_type": "stream",
     "text": [
      "<TakeDataset element_spec=TensorSpec(shape=(), dtype=tf.int64, name=None)> <TakeDataset element_spec=TensorSpec(shape=(), dtype=tf.int64, name=None)> <SkipDataset element_spec=TensorSpec(shape=(), dtype=tf.int64, name=None)>\n"
     ]
    }
   ],
   "source": [
    "TRAIN_RATIO=0.8\n",
    "VAL_RATIO=0.1\n",
    "TEST_RATIO=0.1\n",
    "\n",
    "dataset =tf.data.Dataset.range(10)\n",
    "train_dataset,val_dataset,test_dataset=splits(dataset,TRAIN_RATIO,VAL_RATIO,TEST_RATIO)\n",
    "print(train_dataset,val_dataset,test_dataset)"
   ]
  },
  {
   "cell_type": "markdown",
   "id": "a42282bc",
   "metadata": {},
   "source": [
    "## Dataset Visualization"
   ]
  },
  {
   "cell_type": "code",
   "execution_count": 2,
   "id": "98c97256",
   "metadata": {},
   "outputs": [],
   "source": [
    "##testing"
   ]
  },
  {
   "cell_type": "code",
   "execution_count": 1,
   "id": "ba0c571c",
   "metadata": {},
   "outputs": [],
   "source": [
    "#testing"
   ]
  },
  {
   "cell_type": "code",
   "execution_count": null,
   "id": "d02ff963",
   "metadata": {},
   "outputs": [],
   "source": []
  },
  {
   "cell_type": "code",
   "execution_count": null,
   "id": "e3e7ff07",
   "metadata": {},
   "outputs": [],
   "source": []
  }
 ],
 "metadata": {
  "kernelspec": {
   "display_name": "Python 3 (ipykernel)",
   "language": "python",
   "name": "python3"
  },
  "language_info": {
   "codemirror_mode": {
    "name": "ipython",
    "version": 3
   },
   "file_extension": ".py",
   "mimetype": "text/x-python",
   "name": "python",
   "nbconvert_exporter": "python",
   "pygments_lexer": "ipython3",
   "version": "3.10.9"
  }
 },
 "nbformat": 4,
 "nbformat_minor": 5
}
